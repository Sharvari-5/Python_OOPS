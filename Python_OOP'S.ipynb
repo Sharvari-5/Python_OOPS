{
  "nbformat": 4,
  "nbformat_minor": 0,
  "metadata": {
    "colab": {
      "provenance": []
    },
    "kernelspec": {
      "name": "python3",
      "display_name": "Python 3"
    },
    "language_info": {
      "name": "python"
    }
  },
  "cells": [
    {
      "cell_type": "markdown",
      "source": [
        "# **PYTHON** **OOP**'S"
      ],
      "metadata": {
        "id": "loTG5IcdV2Fh"
      }
    },
    {
      "cell_type": "markdown",
      "source": [
        "# **Theory** **Questions**"
      ],
      "metadata": {
        "id": "xlFCkhOyVtsw"
      }
    },
    {
      "cell_type": "markdown",
      "source": [
        "Que.1 What is Object-Oriented Programming (OOP)+\n",
        "\n",
        "   ->  Object-oriented programming is a programming paradigm that is based on\n",
        "       the concept of \"objects\", which can contain data and code that manipulates that data.\n",
        "       In OOP, objects are created from templates called \"classes\", which define the properties and behavior\n",
        "       of the objects they create."
      ],
      "metadata": {
        "id": "7_E3PwhJMQyM"
      }
    },
    {
      "cell_type": "markdown",
      "source": [
        "Que.2 What is a class in OOP+In Python,\n",
        "\n",
        "   -> In Python, a class is a template for creating objects. It defines the properties and behavior of the objects that are created from it. An object is an instance of a class, created by calling the class like a function."
      ],
      "metadata": {
        "id": "pb5o6HV5Mzb9"
      }
    },
    {
      "cell_type": "markdown",
      "source": [
        "Que.3 What is an object in OOP+\n",
        "\n",
        "   -> Objects are Python's abstraction for data. All data in a Python program\n",
        "      is represented by objects or by relations between objects.\n",
        "      Every object has an identity, a type and a value."
      ],
      "metadata": {
        "id": "SSRgYsdRNVYR"
      }
    },
    {
      "cell_type": "markdown",
      "source": [
        "Que.4 What is the difference between abstraction and encapsulation+\n",
        "\n",
        "   -> Abstraction:\n",
        "      In object-oriented programming, abstraction focuses on simplifying complex systems by hiding implementation details and exposing only essential features,\n",
        "      Focus: What an object does, not how it does it.\n",
        "      Goal: Reduce complexity by presenting a simplified view of an object or system.\n",
        "      Implementation: Hiding unnecessary details and exposing only the necessary functionality through interfaces or abstract classes.\n",
        "      Example: Driving a car. You interact with the steering wheel, pedals, and gears, not the complex engine mechanics.\n",
        "      \n",
        "\n",
        "\n",
        "   -> Encapsulation:\n",
        "      In object-oriented programming,encapsulation bundles data and methods within a single unit (like a class) and restricts access to protect data integrity.\n",
        "      Focus: How an object's data is accessed and manipulated.\n",
        "      Goal: Protect data integrity and prevent unauthorized access or modification.\n",
        "      Implementation: Bundling data (variables) and methods (functions) within a class and restricting access to the data through controlled interfaces (e.g., getter and setter methods).\n",
        "      Example: A banking system, where customer account details are encapsulated within a class, and accessing or modifying the account balance can only be done through specific methods.\n"
      ],
      "metadata": {
        "id": "NhlwpJNwNxLS"
      }
    },
    {
      "cell_type": "markdown",
      "source": [
        "Que.5 What are dunder methods in Python+\n",
        "\n",
        "  ->  Dunder methods, also known as magic methods or special methods, are\n",
        "      predefined methods in Python that have double underscores (or “dunders”) at the beginning and end of their names. These methods provide a way to define specific behaviors for built-in operations or functionalities in Python classes."
      ],
      "metadata": {
        "id": "WSCoAxF6P5BM"
      }
    },
    {
      "cell_type": "markdown",
      "source": [
        "Que.6 Explain the concept of inheritance in OOPH\n",
        "\n",
        "   -> In Object-Oriented Programming (OOP), inheritance is a mechanism where a\n",
        "      new class (child or derived class) inherits properties and behaviors from an existing class (parent or base class), promoting code reusability and a hierarchical class structure.\n",
        "\n",
        "      Key Concepts:\n",
        "      Parent/Base Class: The class from which another class inherits.\n",
        "      Child/Derived Class: The class that inherits from another class.\n",
        "      Inheritance: The process of a child class inheriting properties\n",
        "      and behaviors from its\n",
        "      parent class.\n",
        "      Code Reusability: Inheritance allows you to reuse code by inheriting functionality\n",
        "      from parent classes, reducing redundancy and improving maintainability.\n",
        "      Hierarchical Structure: Inheritance creates a hierarchical\n",
        "      relationship between classes,\n",
        "      where child classes are specialized versions of their parent classes.\n",
        "\n",
        "\n",
        "      How it Works:\n",
        "      When a class inherits from another, it automatically gains access to\n",
        "      the parent class's attributes (variables)\n",
        "      and methods (functions).\n",
        "      The child class can then extend or modify these inherited features, adding new\n",
        "      attributes and methods or overriding existing ones.\n",
        "      This allows for a structured and organized approach to building and extending classes,\n",
        "      promoting code reusability and maintainability.\n",
        "\n",
        "      Example:\n",
        "      Imagine you have a class called Animal with attributes\n",
        "      like name and age and methods like eat() and sleep().\n",
        "      You can then create a child class called Dog that inherits\n",
        "      from Animal. The Dog class will automatically have the name, age,\n",
        "      eat(), and sleep() attributes and methods from Animal, and\n",
        "      you can add new attributes and methods specific to dogs, like bark()\n",
        "\n",
        "      Benefits of Inheritance:\n",
        "      Code Reusability: Avoids redundant code by reusing functionality from parent classes.\n",
        "      Maintainability: Changes made to the parent class are\n",
        "      automatically reflected in the child classes.\n",
        "      Extensibility: New functionalities can be added to existing code\n",
        "      with minimal changes.\n",
        "      Hierarchical Structure: Promotes a clear and organized structure for classes.\n"
      ],
      "metadata": {
        "id": "3XlApc89QaYP"
      }
    },
    {
      "cell_type": "markdown",
      "source": [
        "Que.7 What is polymorphism in OOP+\n",
        "\n",
        "   -> In object-oriented programming (OOP), polymorphism means \"many forms\" and allows objects of different classes to be treated as objects of a common type, enabling them to respond differently to the same method call.\n",
        "\n",
        "   Core Concept:\n",
        "   \n",
        "   Polymorphism is a fundamental principle in OOP that allows you to write code that can work with different types of objects in a generic way.\n",
        "   \"Many Forms\":\n",
        "   The term \"polymorphism\" literally translates to \"many forms,\" and in OOP, it refers to the ability of objects to take on multiple forms or behaviors.\n",
        "\n",
        "   Common Interface, Different Implementations:\n",
        "   Polymorphism enables you to define a common interface (e.g., a method signature) and have different classes implement that interface in their own unique ways.\n",
        "\n",
        "   Example:\n",
        "   Imagine you have a Shape class with a method called draw(). You can then create subclasses like Circle, Square, and Triangle, each inheriting from Shape and overriding the draw() method to implement its own drawing logic.\n",
        "\n",
        "   Benefits:\n",
        "\n",
        "   Flexibility:\n",
        "   Polymorphism makes your code more flexible and adaptable to changes.\n",
        "   Reusability: You can write code that works with different types of objects without needing to know their specific types.\n",
        "   Maintainability: Polymorphic code is often easier to maintain and debug.  \n",
        "\n",
        "   Types of Polymorphism:\n",
        "\n",
        "   Compile-time polymorphism (or static polymorphism): Achieved through method overloading, where multiple methods with the same name but different parameters exist within the same class.\n",
        "   Runtime polymorphism (or dynamic polymorphism): Achieved through method overriding, where a subclass provides its own implementation of a method inherited from its superclass.  "
      ],
      "metadata": {
        "id": "hfQT-8TWSvyy"
      }
    },
    {
      "cell_type": "markdown",
      "source": [
        "Que.8 How is encapsulation achieved in Python+\n",
        "\n",
        "   -> Encapsulation is achieved by declaring a class's data members and  \n",
        "      methods as either private or protected. But in Python, we do not have keywords like public, private, and protected, as in the case of Java. Instead, we achieve this by using single and double underscores.\n",
        "      The meaning of Encapsulation, is to make sure that \"sensitive\" data is hidden from users. To achieve this, you must: declare class variables/attributes as private. provide public get and set methods to access and update the value of a private variable."
      ],
      "metadata": {
        "id": "7piTHJjITx7p"
      }
    },
    {
      "cell_type": "markdown",
      "source": [
        "Que.9 What is a constructor in Python+\n",
        "\n",
        "  ->   Constructors in Python is a special class method for creating and\n",
        "       initializing an object instance at that class. Every Python class has a constructor; it's not required to be defined explicitly. The purpose of the constructor is to construct an object and assign a value to the object's members."
      ],
      "metadata": {
        "id": "4-9jIQgtUqJu"
      }
    },
    {
      "cell_type": "markdown",
      "source": [
        "Que.10 What are class and static methods in Python+\n",
        "\n",
        "   ->. Class Method:\n",
        "       A class method can access or modify the class state.\n",
        "       Class methods must have class as a parameter.\n",
        "       We generally use the class method to create factory methods. Factory methods return class objects ( similar to a constructor ) for different use cases.\n",
        "       To define a class method in python, we use @classmethod decorator.\n",
        "\n",
        "       \n",
        "       Static Method:\n",
        "       Static method can’t access or modify it.\n",
        "       In general, static methods know nothing about the class state. They are utility-type methods that take some parameters and work upon those parameters.\n",
        "       we use @staticmethod decorator to create a static method in python.\n",
        "       We generally use static methods to create utility functions.\n",
        "       To define a static method we use @staticmethod decorator."
      ],
      "metadata": {
        "id": "htgdfhMtVYqo"
      }
    },
    {
      "cell_type": "markdown",
      "source": [
        "Que.11 What is method overloading in Python+\n",
        "\n",
        "   ->  Two or more methods have the same name but different numbers of\n",
        "       parameters or different types of parameters, or both. These methods are called overloaded methods and this is called method overloading.\n",
        "       Overloading happens when you keep the same method name but change the number or type of parameters.\n",
        "       we can overload private and static methods."
      ],
      "metadata": {
        "id": "8hPsNN5Xf9Nz"
      }
    },
    {
      "cell_type": "markdown",
      "source": [
        "Que.12 What is method overriding in OOP+\n",
        "\n",
        "   ->  In Object-Oriented Programming (OOP), method overriding allows a\n",
        "       subclass to provide a specific implementation of a method that is already defined in its superclass, enabling polymorphism and specialized behavior.\n",
        "       In Object-Oriented Programming (OOP), method overriding allows a subclass to provide a specific implementation of a method that is already defined in its superclass, enabling polymorphism and specialized behavior.\n",
        "       Method overriding, in object-oriented programming, is a language feature that allows a subclass or child class to provide a specific implementation of a method that is already provided by one of its superclasses or parent classes.\n",
        "       The ability of a subclass to override a method in its superclass allows a class to inherit from a superclass whose behavior is \"close enough\" and then override methods as needed."
      ],
      "metadata": {
        "id": "F6L0EZPGnzdn"
      }
    },
    {
      "cell_type": "markdown",
      "source": [
        "Que.13 What is a property decorator in Python+\n",
        "\n",
        "   ->  Property decorater is a built-in decorator that comes under the\n",
        "       property. () function used to define or create a special attribute type known as the property of a class. Properties encapsulate access to an object attribute and add logic to the process, including access control, computation, or validation.\n"
      ],
      "metadata": {
        "id": "LLl39oIHpWBl"
      }
    },
    {
      "cell_type": "markdown",
      "source": [
        "Que.14 Why is polymorphism important in OOP+\n",
        "\n",
        "  ->   Polymorphism is crucial in Object-Oriented Programming (OOP) because it\n",
        "       allows objects of different classes to be treated as objects of a common type, enabling code reuse, flexibility, and maintainability by allowing a single interface to handle diverse behaviors.\n",
        "\n",
        "       Code Reusability:\n",
        "       Polymorphism promotes code reuse by allowing the same method\n",
        "       name to be used for different classes, reducing redundancy\n",
        "       and improving maintainability.\n",
        "\n",
        "       Flexibility and Extensibility:\n",
        "       It allows for easy extension and modification of code\n",
        "       without altering existing functionality. New classes can be\n",
        "       added without impacting existing code that uses the common interface.\n",
        "\n",
        "       Simplified Code:\n",
        "       Polymorphism can simplify code by reducing the need for\n",
        "       complex conditional statements or\n",
        "       switch statements, making code easier\n",
        "       to read and maintain.\n",
        "\n",
        "       Abstraction:\n",
        "       It enables abstraction by allowing developers to focus on\n",
        "       the common behavior of different objects rather than\n",
        "       their specific types, which makes\n",
        "       code more modular and easier to understand.\n",
        "\n",
        "       Dynamic Behavior:\n",
        "       Polymorphism allows objects to behave differently based on their specific class\n",
        "       type,even when they are treated as objects of a common type,\n",
        "        which is achieved\n",
        "       through method overriding and other techniques.\n",
        "\n",
        "       Foundation of OOP:\n",
        "       Polymorphism is a core concept in OOP, and languages\n",
        "       that lack polymorphism are often considered\n",
        "       object-based rather than\n",
        "       fully object-oriented.\n",
        "\n",
        "       Method Overriding:\n",
        "       Polymorphism is often implemented through method overriding,\n",
        "       where a subclass can provide a specific implementation of a\n",
        "       method inherited from its superclass.\n",
        "\n",
        "       Method Overloading:\n",
        "       Another form of polymorphism is method overloading,\n",
        "       where multiple methods with the same name but different\n",
        "       parameters are defined within a class.\n"
      ],
      "metadata": {
        "id": "hdKjYtAWqCV1"
      }
    },
    {
      "cell_type": "markdown",
      "source": [
        "Que.15 What is an abstract class in Python+\n",
        "\n",
        "   ->. In Python, an abstract class is a class that cannot be instantiated on\n",
        "       its own and is meant to be subclassed by other classes. Abstract classes are created using the abc (Abstract Base Classes) module.\n",
        "       Abstract class: is a restricted class that cannot be used to create objects (to access it, it must be inherited from another class)\n",
        "       Abstract method: can only be used in an abstract class, and it does not have a body. The body is provided by the subclass (inherited from)."
      ],
      "metadata": {
        "id": "qD_t2JLjsAN4"
      }
    },
    {
      "cell_type": "markdown",
      "source": [
        "Que.16 What are the advantages of OOP+\n",
        "\n",
        "   ->  Object-Oriented Programming (OOP) offers advantages like code\n",
        "       reusability, modularity, and maintainability by encapsulating data and methods within objects, promoting flexibility and easier debugging.\n",
        "\n",
        "       Code Reusability:\n",
        "       OOP allows developers to create reusable components\n",
        "       (classes and objects) that can be used in different parts\n",
        "       of the code, saving time and effort.\n",
        "\n",
        "       Modularity:\n",
        "       OOP promotes modularity by breaking down complex programs\n",
        "       into smaller, manageable units (classes),\n",
        "       making it easier to understand, debug, and maintain.\n",
        "\n",
        "       Encapsulation:\n",
        "       OOP uses encapsulation to bundle data (attributes)\n",
        "       and methods (functions) that operate on that data\n",
        "       within a class, hiding internal implementation details\n",
        "       and protecting data integrity.\n",
        "\n",
        "       Inheritance:\n",
        "       OOP allows classes to inherit properties and behaviors\n",
        "       from parent classes, promoting code reuse and reducing redundancy.\n",
        "\n",
        "       Polymorphism:\n",
        "       OOP supports polymorphism, allowing objects of different\n",
        "       classes to be treated as objects of a common type, enabling\n",
        "       flexible and extensible code.\n",
        "\n",
        "       Abstraction:\n",
        "       OOP uses abstraction to hide complex implementation details\n",
        "       and present a simplified interface to the user, making the\n",
        "       code easier to understand and work with.\n",
        "\n",
        "       Improved Code Organization:\n",
        "       OOP's structure makes it easier to organize code logically,\n",
        "        leading to better readability and maintainability.\n",
        "\n",
        "       Easier Debugging:\n",
        "       The modular and encapsulated nature of OOP makes it easier\n",
        "       to identify and fix errors in the code.\n",
        "\n",
        "       Enhanced Security:\n",
        "       OOP's data hiding mechanisms (encapsulation) can help improve\n",
        "       the security of the code by preventing unauthorized access to sensitive data."
      ],
      "metadata": {
        "id": "Q5yOUmjvser9"
      }
    },
    {
      "cell_type": "markdown",
      "source": [
        "Que.17 What is the difference between a class variable and an instance variable\n",
        "\n",
        "   ->  In object-oriented programming, a class variable (also known as a  \n",
        "       static variable) is shared across all instances (objects) of a class, while an instance variable is unique to each instance.\n",
        "\n",
        "       Class Variable:\n",
        "\n",
        "       Definition: Defined within the class but outside of any\n",
        "       methods or constructors.\n",
        "\n",
        "       Scope: Accessible to all instances of the class and can\n",
        "       be accessed directly using the class name.\n",
        "\n",
        "       Purpose: Used to store data that is shared among all instances,\n",
        "       such as constants, counters, or flags.\n",
        "\n",
        "       These variables are declared using the keyword static.  \n",
        "       It has only one copy of the class variable so it is shared among different objects of the class.\n",
        "\n",
        "       Example:\n",
        "    class MyClass:\n",
        "        class_variable = 0  # Class variable\n",
        "        def __init__(self, instance_variable):\n",
        "            self.instance_variable = instance_variable\n",
        "\n",
        "\n",
        "\n",
        "        Instance Variable:\n",
        "\n",
        "        Definition:\n",
        "        Defined within the class, but inside a method\n",
        "        (typically the __init__ method in Python).\n",
        "\n",
        "        Scope:\n",
        "        Accessible only to the specific instance (object) of the class that\n",
        "        it belongs to.\n",
        "\n",
        "        Purpose:\n",
        "        Used to store data that is unique to each instance,\n",
        "        representing the state of that particular object.\n",
        "\n",
        "        These variables are declared without using the static keyword.  \n",
        "        It has many copies so every object has its own personal\n",
        "        copy of the instance variable.\n",
        "\n",
        "        Example:\n",
        "    class MyClass:\n",
        "        def __init__(self, instance_variable):\n",
        "            self.instance_variable = instance_variable  # Instance variable\n"
      ],
      "metadata": {
        "id": "nKAllmvLtvoi"
      }
    },
    {
      "cell_type": "markdown",
      "source": [
        "Que.18 What is multiple inheritance in Python+\n",
        "\n",
        "   ->. In Python, multiple inheritance is a feature where a class can inherit\n",
        "       attributes and methods from more than one parent class. It allows you to create a class that combines behaviors or attributes from multiple other classes, which can be quite powerful.\n",
        "       A class can be derived from more than one superclass in Python. This is called multiple inheritance.\n",
        "       \n",
        "       For example, a class Bat is derived from superclasses Mammal\n",
        "       and WingedAnimal . It makes sense because bat is a mammal\n",
        "       as well as a winged animal"
      ],
      "metadata": {
        "id": "GKih0JfMwpla"
      }
    },
    {
      "cell_type": "markdown",
      "source": [
        "Que.19 Explain the purpose of ‘’__str__’ and ‘__repr__’ ‘ methods in Python\n",
        "\n",
        "   ->. __str__() is for creating a readable representation of an object for\n",
        "       end-users.\n",
        "       __str__ is used for informal string representations, such as printing objects for user consumption\n",
        "   \n",
        "       __repr__() is for creating a detailed and precise representation for developers.\n",
        "       __repr__ is used for formal string representations,\n",
        "       including debugging, logging, and object inspection."
      ],
      "metadata": {
        "id": "S2v_AchvxXWe"
      }
    },
    {
      "cell_type": "markdown",
      "source": [
        "Que.20 What is the significance of the ‘super()’ function in Python+\n",
        "\n",
        "   ->  In Python, super() is a built-in function that allows access to methods\n",
        "       and properties of a parent or superclass from a child or subclass. This is useful when working with inheritance in object-oriented programming.\n",
        "       The super keyword refers to superclass (parent) objects. It is used to call superclass methods, and to access the superclass constructor. The most common use of the super keyword is to eliminate the confusion between superclasses and subclasses that have methods with the same name."
      ],
      "metadata": {
        "id": "o6Lp16V9x9CC"
      }
    },
    {
      "cell_type": "markdown",
      "source": [
        "Que.21 What is the significance of the __del__ method in Python+\n",
        "\n",
        "  ->   The __del__ method in Python is a powerful tool for managing resource\n",
        "       cleanup when objects are destroyed. It allows you to define specific actions that should be taken when an object is garbage collected, such as closing files, releasing locks, or closing network connections.\n",
        "       The __del__ method exists to release any resources held by an object when that object is deleted. The __del__ is called only by the garbage collector which may call it after an indefinite delay or never. Consequently, __del__ method should not be relied on to release resources, such as file descriptors."
      ],
      "metadata": {
        "id": "FyvsWYJoyjrN"
      }
    },
    {
      "cell_type": "markdown",
      "source": [
        "Que.22 What is the difference between @staticmethod and @classmethod in Python+\n",
        "\n",
        "  ->.   Class Method:\n",
        "\n",
        "        The @classmethod decorator is a built-in function decorator that is an\n",
        "        expression that gets evaluated after your function is defined.\n",
        "        The result of that evaluation shadows your function definition.\n",
        "        A class method receives the class as an implicit first argument,\n",
        "        just like an instance method receives the instance.\n",
        "        A class method is a method that is bound to the class and not the object of the class.\n",
        "        They have the access to the state of the class as it takes a class parameter that points to the class and not the object instance.\n",
        "        It can modify a class state that would apply across all the instances of the class. For example, it can modify a class variable that will be applicable to all the instances.\n",
        "\n",
        "        Syntax Python Class Method:\n",
        "\n",
        "   class C(object):\n",
        "    @classmethod\n",
        "    def fun(cls, arg1, arg2, ...):\n",
        "      \n",
        "      \n",
        "      Static Method:\n",
        "      \n",
        "      A static method does not receive an implicit first argument.\n",
        "      A static method is also a method that is bound to the class and\n",
        "      not the object of the class. This method can’t access or modify the class state.\n",
        "      It is present in a class because it makes sense for the method to be present in class.\n",
        "      we use @staticmethod decorator to create a static method in python.\n",
        "      static method can’t access or modify it.\n",
        "      In general, static methods know nothing about the class state. They are utility-type methods that take some parameters and work upon those parameters.\n",
        "\n",
        "      Syntax Python Static Method:\n",
        "\n",
        "class C(object):\n",
        "    @staticmethod\n",
        "    def fun(arg1, arg2, ...):\n",
        "\n",
        "\n"
      ],
      "metadata": {
        "id": "Gbuhw6aoy6tE"
      }
    },
    {
      "cell_type": "markdown",
      "source": [
        "Que.23 How does polymorphism work in Python with inheritance+\n",
        "\n",
        "   ->  Python polymorphism with inheritance allows a child class method to\n",
        "       share the same name as the parent class method. Inheritance is the mechanism where the child class inherits the methods of the parent class. We can modify some of the methods that a child class inherits from the parent class.\n",
        "       inheritance is about creating a hierarchy of classes where subclasses inherit properties and behaviors from superclasses, while polymorphism is about allowing objects of different classes to be used interchangeably by adhering to a common interface or method name."
      ],
      "metadata": {
        "id": "Y6kZpF5C0fXl"
      }
    },
    {
      "cell_type": "markdown",
      "source": [
        "Que.24 What is method chaining in Python OOP+\n",
        "\n",
        "   ->. Method chaining refers to calling multiple methods sequentially on the\n",
        "       same object in a single expression. Each method call returns an object, often the same object (modified or not), allowing the subsequent method to operate on that object.\n",
        "       Methods chaining is a style of programming in which invoking multiple method calls occurs sequentially. It removes the pain of assigning variables at each intermediate step as each call performs action on same object and then returns the object to next call.\n",
        "       Method chaining is a common syntax for invoking multiple method calls in object-oriented programming languages. Each method returns an object, allowing the calls to be chained together in a single statement without requiring variables to store the intermediate results."
      ],
      "metadata": {
        "id": "cMCQjAp703Rj"
      }
    },
    {
      "cell_type": "markdown",
      "source": [
        "Que.25 What is the purpose of the __call__ method in Python?\n",
        "\n",
        "   ->  __call__() is to turn your instances into callable objects. In other\n",
        "       words, its purpose is to create objects that you can call as you would call a regular function. Most Python classes don't implement this method. Your custom classes will have it only if you need to use your instances as functions.\n",
        "       The __call__ method is part of Python build-in methods also called dunder or magic methods because have two prefixes and suffix underscores in the method name. The main idea of __call__ method is to write a class and invoke it like a function. You can refer to it as callable object."
      ],
      "metadata": {
        "id": "oSHweoOT1RPB"
      }
    },
    {
      "cell_type": "markdown",
      "source": [
        "# **Practical** **Questions**"
      ],
      "metadata": {
        "id": "B-w4xPPAVl0p"
      }
    },
    {
      "cell_type": "code",
      "source": [
        "#Que.1 Create a parent class Animal with a method speak() that prints a generic message. Create a child class Dog\n",
        "       #that overrides the speak() method to print \"Bark!\".\n",
        "\n",
        "class Animal:\n",
        "  def speak(self):\n",
        "    print(\"This animal makes a sound\")\n",
        "\n",
        "class Dog:\n",
        "  def speak(self):\n",
        "    print(\"Bark\")\n",
        "\n",
        "animal = Animal()\n",
        "animal.speak()\n",
        "\n",
        "dog = Dog()\n",
        "dog.speak()\n",
        "\n"
      ],
      "metadata": {
        "colab": {
          "base_uri": "https://localhost:8080/"
        },
        "id": "uRb422snVoEI",
        "outputId": "55b0e412-df75-4713-bef9-45c52b2e4184"
      },
      "execution_count": 2,
      "outputs": [
        {
          "output_type": "stream",
          "name": "stdout",
          "text": [
            "This animal makes a sound\n",
            "Bark\n"
          ]
        }
      ]
    },
    {
      "cell_type": "code",
      "source": [
        "#Que.2 Write a program to create an abstract class Shape with a method area().\n",
        "       #Derive classes Circle and Rectangle from it and implement the area() method in both.\n",
        "\n",
        "\n",
        "from abc import ABC, abstractmethod\n",
        "\n",
        "# Abstract class Shape\n",
        "class Shape(ABC):\n",
        "    @abstractmethod\n",
        "    def area(self):\n",
        "        pass\n",
        "\n",
        "# Derived class Circle\n",
        "class Circle(Shape):\n",
        "    def __init__(self, radius):\n",
        "        self.radius = radius\n",
        "\n",
        "    def area(self):\n",
        "        return 3.1416 * self.radius * self.radius\n",
        "\n",
        "# Derived class Rectangle\n",
        "class Rectangle(Shape):\n",
        "    def __init__(self, length, breadth):\n",
        "        self.length = length\n",
        "        self.breadth = breadth\n",
        "\n",
        "    def area(self):\n",
        "        return self.length * self.breadth\n",
        "\n",
        "# Example usage\n",
        "circle = Circle(5)\n",
        "rectangle = Rectangle(4, 6)\n",
        "\n",
        "print(f\"Area of Circle: {circle.area()}\")\n",
        "print(f\"Area of Rectangle: {rectangle.area()}\")\n"
      ],
      "metadata": {
        "colab": {
          "base_uri": "https://localhost:8080/"
        },
        "id": "E4YwWZHfVoJH",
        "outputId": "c5925a46-85ed-4889-bde5-82f8eaf413fe"
      },
      "execution_count": 17,
      "outputs": [
        {
          "output_type": "stream",
          "name": "stdout",
          "text": [
            "Area of Circle: 78.54\n",
            "Area of Rectangle: 24\n"
          ]
        }
      ]
    },
    {
      "cell_type": "code",
      "source": [
        "#Que.3 Implement a multi-level inheritance scenario where a class Vehicle has an attribute type. Derive a class Car\n",
        "        #and further derive a class ElectricCar that adds a battery attribute.\n",
        "\n",
        "\n",
        "#EXAMPLE 1\n",
        "class Vehicle:\n",
        "    def __init__(self) -> None:\n",
        "        self.type = \"Vehicle\"\n",
        "\n",
        "class Car(Vehicle):\n",
        "    def __init__(self) -> None:\n",
        "        super().__init__()\n",
        "        self.type = \"Car\"\n",
        "        self.battery = \"Electronics\"\n",
        "\n",
        "class ElectricCar(Car):\n",
        "  def __init__(self) -> None:\n",
        "    super().__init__()\n",
        "    self.type = \"Electric Car\"\n",
        "    self.battery = \"Electric\"\n",
        "\n",
        "vehicle = Vehicle()\n",
        "print(vehicle.type)\n",
        "\n",
        "car = Car()\n",
        "print(car.type)\n",
        "\n",
        "electriccar = ElectricCar()\n",
        "print(electriccar.type)\n",
        "print(electriccar.battery)\n",
        "\n",
        "\n",
        "#EXAMPLE 2\n",
        "class Vehicle:\n",
        "    def __init__(self, type):\n",
        "        self.type = type\n",
        "\n",
        "# Derived class Car\n",
        "class Car(Vehicle):\n",
        "    def __init__(self, type, brand):\n",
        "        super().__init__(type)\n",
        "        self.brand = brand\n",
        "\n",
        "# Further derived class ElectricCar\n",
        "class ElectricCar(Car):\n",
        "    def __init__(self, type, brand, battery):\n",
        "        super().__init__(type, brand)\n",
        "        self.battery = battery\n",
        "electric_car = ElectricCar(\"Sedan\", \"Tesla\", \"100 kWh\")\n",
        "print(f\"Electric Car Type: {electric_car.type}, Brand: {electric_car.brand}, Battery: {electric_car.battery}\")\n"
      ],
      "metadata": {
        "colab": {
          "base_uri": "https://localhost:8080/"
        },
        "id": "2-Kik1DFVoLy",
        "outputId": "3e72295e-2a2c-409c-b592-6a182a08ceef"
      },
      "execution_count": 1,
      "outputs": [
        {
          "output_type": "stream",
          "name": "stdout",
          "text": [
            "Vehicle\n",
            "Car\n",
            "Electric Car\n",
            "Electric\n",
            "Electric Car Type: Sedan, Brand: Tesla, Battery: 100 kWh\n"
          ]
        }
      ]
    },
    {
      "cell_type": "code",
      "source": [
        "#Que.4 Demonstrate polymorphism by creating a base class Bird with a method fly(). Create two derived classes\n",
        "#Sparrow and Penguin that override the fly() method.\n",
        "\n",
        "class Bird:\n",
        "  def fly(self):\n",
        "    print(\"Birds can fly.\")\n",
        "\n",
        "\n",
        "  def swim(self):\n",
        "    print(\"Birds can swim.\")\n",
        "\n",
        "class sparrow(Bird):\n",
        "  def fly(self):\n",
        "    print(\"Sparrrows can fly high.\")\n",
        "\n",
        "class penguin(Bird):\n",
        "  def fly(self):\n",
        "    print(\"Penguin can't fly.\")\n",
        "\n",
        "bird = Bird()\n",
        "bird.fly()\n",
        "bird.swim()\n",
        "\n",
        "sparrow = sparrow()\n",
        "sparrow.fly()\n",
        "\n",
        "penguin = penguin()\n",
        "penguin.fly()\n"
      ],
      "metadata": {
        "colab": {
          "base_uri": "https://localhost:8080/"
        },
        "id": "ZMvxZT0NVoOw",
        "outputId": "78751bb6-d346-466c-e814-d838115f5c11"
      },
      "execution_count": 10,
      "outputs": [
        {
          "output_type": "stream",
          "name": "stdout",
          "text": [
            "Birds can fly.\n",
            "Birds can swim.\n",
            "Sparrrows can fly high.\n",
            "Penguin can't fly.\n"
          ]
        }
      ]
    },
    {
      "cell_type": "code",
      "source": [
        "#Que.5 Write a program to demonstrate encapsulation by creating a class BankAccount with private attributes\n",
        "       #balance and methods to deposit, withdraw, and check balance.\n",
        "\n",
        "\n",
        "class BankAccount:\n",
        "    def __init__(self, initial_balance=0):\n",
        "        self.__balance = initial_balance  # Private attribute\n",
        "\n",
        "    def deposit(self, amount):\n",
        "        if amount > 0:\n",
        "            self.__balance += amount\n",
        "            print(f\"Deposited: ${amount:.2f}\")\n",
        "        else:\n",
        "            print(\"Deposit amount must be positive.\")\n",
        "\n",
        "    def withdraw(self, amount):\n",
        "        if 0 < amount <= self.__balance:\n",
        "            self.__balance -= amount\n",
        "            print(f\"Withdrawn: ${amount:.2f}\")\n",
        "        else:\n",
        "            print(\"Insufficient balance or invalid amount.\")\n",
        "\n",
        "    def check_balance(self):\n",
        "        print(f\"Current balance: ${self.__balance:.2f}\")\n",
        "\n",
        "# Demonstration\n",
        "account = BankAccount(100)  # Creating an account with an initial balance of $100\n",
        "account.deposit(50)\n",
        "account.withdraw(30)\n",
        "account.check_balance()\n",
        "\n"
      ],
      "metadata": {
        "colab": {
          "base_uri": "https://localhost:8080/"
        },
        "id": "7GV9c9RqVoWY",
        "outputId": "7f78ac7c-c2f4-47f3-d8b2-e0d6436dcca1"
      },
      "execution_count": 11,
      "outputs": [
        {
          "output_type": "stream",
          "name": "stdout",
          "text": [
            "Deposited: $50.00\n",
            "Withdrawn: $30.00\n",
            "Current balance: $120.00\n"
          ]
        }
      ]
    },
    {
      "cell_type": "code",
      "source": [
        "#Que.6 Demonstrate runtime polymorphism using a method play() in a base class Instrument.\n",
        "      #Derive classes Guitar and Piano that implement their own version of play().\n",
        "\n",
        "class Instrument:\n",
        "  def play(self):\n",
        "    print(\"Playing an instrument\")\n",
        "\n",
        "  def stop(self):\n",
        "    print(\"Stopping the instrument\")\n",
        "\n",
        "class Guitar(Instrument):\n",
        "  def play(self):\n",
        "    print(\"Playing the Guitar\")\n",
        "  def stop(self):\n",
        "    print(\"Stopping the Guitar\")\n",
        "\n",
        "class Piano(Instrument):\n",
        "  def play(self):\n",
        "    print(\"Playing the Piano\")\n",
        "  def stop(self):\n",
        "    print(\"Stopping the piano\")\n",
        "\n",
        "guitar = Guitar()\n",
        "guitar.play()\n",
        "guitar.stop()\n",
        "\n",
        "piano = Piano()\n",
        "piano.play()\n",
        "piano.stop()"
      ],
      "metadata": {
        "colab": {
          "base_uri": "https://localhost:8080/"
        },
        "id": "CYyvcDHk4-eu",
        "outputId": "ea5c8339-b8ae-47c0-82d6-92d4fc1b6432"
      },
      "execution_count": 56,
      "outputs": [
        {
          "output_type": "stream",
          "name": "stdout",
          "text": [
            "Playing the Guitar\n",
            "Stopping the Guitar\n",
            "Playing the Piano\n",
            "Stopping the piano\n"
          ]
        }
      ]
    },
    {
      "cell_type": "code",
      "source": [
        "#Que.7  Create a class MathOperations with a class method add_numbers() to add two numbers\n",
        "         #and a static method subtract_numbers() to subtract two numbers\n",
        "\n",
        "class MathOperations:\n",
        "    @classmethod\n",
        "    def add_numbers(cls, a, b):\n",
        "        return a + b\n",
        "\n",
        "    @staticmethod\n",
        "    def subtract_numbers(a, b):\n",
        "        return a - b\n",
        "\n",
        "\n",
        "print(MathOperations.add_numbers(5, 3))\n",
        "print(MathOperations.subtract_numbers(5, 3))\n"
      ],
      "metadata": {
        "colab": {
          "base_uri": "https://localhost:8080/"
        },
        "id": "_8Z7ppHh4-hJ",
        "outputId": "c64f0e28-6cd6-461b-e845-0656d6e08f82"
      },
      "execution_count": 55,
      "outputs": [
        {
          "output_type": "stream",
          "name": "stdout",
          "text": [
            "8\n",
            "2\n"
          ]
        }
      ]
    },
    {
      "cell_type": "code",
      "source": [
        "#Que.8 Implement a class Person with a class method to count the total number\n",
        "       #of persons created.\n",
        "\n",
        "class Person:\n",
        "    count = 0  # Class variable to keep track of the number of persons\n",
        "\n",
        "    def __init__(self, name):\n",
        "        self.name = name\n",
        "        Person.count += 1  # Increment count each time a new object is created\n",
        "\n",
        "    @classmethod\n",
        "    def get_count(cls):\n",
        "        return cls.count  # Return the total number of persons created\n",
        "\n",
        "\n",
        "p1 = Person(\"Alice\")\n",
        "p2 = Person(\"Bob\")\n",
        "print(Person.get_count())"
      ],
      "metadata": {
        "colab": {
          "base_uri": "https://localhost:8080/"
        },
        "id": "JyoM7pcN4-jt",
        "outputId": "0c98fca0-14be-4ff9-8720-969af5898dd4"
      },
      "execution_count": 54,
      "outputs": [
        {
          "output_type": "stream",
          "name": "stdout",
          "text": [
            "2\n"
          ]
        }
      ]
    },
    {
      "cell_type": "code",
      "source": [
        "#Que.9 Write a class Fraction with attributes numerator and denominator. Override the str method to display the\n",
        "       # fraction as \"numerator/denominator\".\n",
        "\n",
        "class Fraction:\n",
        "    def __init__(self, numerator, denominator):\n",
        "        if denominator == 0:\n",
        "            raise ValueError(\"Denominator cannot be zero.\")\n",
        "        self.numerator = numerator\n",
        "        self.denominator = denominator\n",
        "\n",
        "    def __str__(self):\n",
        "        return f\"{self.numerator}/{self.denominator}\"\n",
        "# Example usage\n",
        "frac = Fraction(3, 4)\n",
        "print(frac)\n"
      ],
      "metadata": {
        "colab": {
          "base_uri": "https://localhost:8080/"
        },
        "id": "sznzY2hA4-l6",
        "outputId": "6e57bec8-563d-496a-83e3-4403890ab178"
      },
      "execution_count": 53,
      "outputs": [
        {
          "output_type": "stream",
          "name": "stdout",
          "text": [
            "3/4\n"
          ]
        }
      ]
    },
    {
      "cell_type": "code",
      "source": [
        "#Que.10 Demonstrate operator overloading by creating a class Vector and overriding the add method to add two\n",
        "        #vectors.\n",
        "class Vector:\n",
        "    def __init__(self, x, y):\n",
        "        self.x = x\n",
        "        self.y = y\n",
        "\n",
        "    def __add__(self, other):\n",
        "        if isinstance(other, Vector):\n",
        "            return Vector(self.x + other.x, self.y + other.y)\n",
        "        raise TypeError(\"Operand must be of type Vector\")\n",
        "\n",
        "    def __repr__(self):\n",
        "        return f\"Vector({self.x}, {self.y})\"\n",
        "\n",
        "\n",
        "v1 = Vector(2, 3)\n",
        "v2 = Vector(4, 5)\n",
        "v3 = v1 + v2\n",
        "print(v3)\n",
        "\n"
      ],
      "metadata": {
        "colab": {
          "base_uri": "https://localhost:8080/"
        },
        "id": "Cih8k0LI4-t6",
        "outputId": "245a7b56-fb36-4aff-a422-09c8ea4e3b5e"
      },
      "execution_count": 52,
      "outputs": [
        {
          "output_type": "stream",
          "name": "stdout",
          "text": [
            "Vector(6, 8)\n"
          ]
        }
      ]
    },
    {
      "cell_type": "code",
      "source": [
        "#Que.11 Create a class Person with attributes name and age. Add a method greet() that prints\n",
        "        #\"Hello, my name is {name} and I am {age} years old.\"\n",
        "\n",
        "class Person:\n",
        "    def __init__(self, name, age):\n",
        "        self.name = name\n",
        "        self.age = age\n",
        "\n",
        "    def greet(self):\n",
        "        print(f\"Hello, my name is {self.name} and I am {self.age} years old.\")\n",
        "\n",
        "\n",
        "person1 = Person(\"John\", 30)\n",
        "person1.greet()\n",
        "\n",
        "\n"
      ],
      "metadata": {
        "colab": {
          "base_uri": "https://localhost:8080/"
        },
        "id": "dIqOEYGR4-xH",
        "outputId": "8e60d1a6-05e0-42a5-e136-b6a647fac048"
      },
      "execution_count": 51,
      "outputs": [
        {
          "output_type": "stream",
          "name": "stdout",
          "text": [
            "Hello, my name is John and I am 30 years old.\n"
          ]
        }
      ]
    },
    {
      "cell_type": "code",
      "source": [
        "#Que.12 Implement a class Student with attributes name and grades. Create a method average_grade() to compute\n",
        "         #the average of the grades.\n",
        "\n",
        "\n",
        "class Student:\n",
        "    def __init__(self, name, grades):\n",
        "        self.name = name\n",
        "        self.grades = grades\n",
        "\n",
        "    def average_grade(self):\n",
        "        if not self.grades:\n",
        "            return 0  # Return 0 if there are no grades to avoid division by zero\n",
        "        return sum(self.grades) / len(self.grades)\n",
        "\n",
        "# Example usage:\n",
        "student = Student(\"Alice\", [85, 90, 78, 92])\n",
        "print(f\"{student.name}'s average grade: {student.average_grade():.2f}\")\n"
      ],
      "metadata": {
        "colab": {
          "base_uri": "https://localhost:8080/"
        },
        "id": "Snj7Xw7y4-zo",
        "outputId": "a782a13a-86e9-4409-9129-61074298bf22"
      },
      "execution_count": 50,
      "outputs": [
        {
          "output_type": "stream",
          "name": "stdout",
          "text": [
            "Alice's average grade: 86.25\n"
          ]
        }
      ]
    },
    {
      "cell_type": "code",
      "source": [
        "#Que.13 Create a class Rectangle with methods set_dimensions() to set the dimensions and area() to calculate the\n",
        "         #area.\n",
        "\n",
        "class Rectangle:\n",
        "    def __init__(self):\n",
        "        self.length = 0\n",
        "        self.width = 0\n",
        "\n",
        "    def set_dimensions(self, length, width):\n",
        "        self.length = length\n",
        "        self.width = width\n",
        "\n",
        "    def area(self):\n",
        "        return self.length * self.width\n",
        "\n",
        "rect = Rectangle()\n",
        "rect.set_dimensions(5, 10)\n",
        "print(\"Area:\", rect.area())\n",
        "\n"
      ],
      "metadata": {
        "colab": {
          "base_uri": "https://localhost:8080/"
        },
        "id": "u7Mu0KgN4-2s",
        "outputId": "a314bdda-727f-4607-b838-48d93f73b3d3"
      },
      "execution_count": 49,
      "outputs": [
        {
          "output_type": "stream",
          "name": "stdout",
          "text": [
            "Area: 50\n"
          ]
        }
      ]
    },
    {
      "cell_type": "code",
      "source": [
        "#Que.14 Create a class Employee with a method calculate_salary() that computes the salary based on hours worked\n",
        "       #and hourly rate. Create a derived class Manager that adds a bonus to the salary\n",
        "\n",
        "class Employee:\n",
        "    def __init__(self, name, hours_worked, hourly_rate):\n",
        "        self.name = name\n",
        "        self.hours_worked = hours_worked\n",
        "        self.hourly_rate = hourly_rate\n",
        "\n",
        "    def calculate_salary(self):\n",
        "        return self.hours_worked * self.hourly_rate\n",
        "\n",
        "class Manager(Employee):\n",
        "    def __init__(self, name, hours_worked, hourly_rate, bonus):\n",
        "        super().__init__(name, hours_worked, hourly_rate)\n",
        "        self.bonus = bonus\n",
        "\n",
        "    def calculate_salary(self):\n",
        "        return super().calculate_salary() + self.bonus\n",
        "employee = Employee(\"Alice\", 40, 20)\n",
        "print(f\"{employee.name}'s salary: ${employee.calculate_salary()}\")\n",
        "\n",
        "manager = Manager(\"Bob\", 40, 30, 500)\n",
        "print(f\"{manager.name}'s salary with bonus: ${manager.calculate_salary()}\")\n"
      ],
      "metadata": {
        "colab": {
          "base_uri": "https://localhost:8080/"
        },
        "id": "c7FbFuYp4-5X",
        "outputId": "ad73005d-fd1b-4ff7-b214-5a7eb5e80b16"
      },
      "execution_count": 42,
      "outputs": [
        {
          "output_type": "stream",
          "name": "stdout",
          "text": [
            "Alice's salary: $800\n",
            "Bob's salary with bonus: $1700\n"
          ]
        }
      ]
    },
    {
      "cell_type": "code",
      "source": [
        "#Que.15 Create a class Product with attributes name, price, and quantity. Implement a method total_price() that\n",
        "      #calculates the total price of the product.\n",
        "\n",
        "class Product:\n",
        "  def __init__(self, name, price, quantity):\n",
        "    self.name = name\n",
        "    self.price = price\n",
        "    self.quantity = quantity\n",
        "\n",
        "  def total_price(self):\n",
        "    return self.price * self.quantity\n",
        "\n",
        "product = Product(\"Laptop\", 1000, 3)\n",
        "print(f\"Total price for {product.quantity} {product.name}(s): ${product.total_price()}\")"
      ],
      "metadata": {
        "colab": {
          "base_uri": "https://localhost:8080/"
        },
        "id": "t45xt6Ti4-75",
        "outputId": "05673954-3b63-49c6-ce34-5a6a0fe04bd4"
      },
      "execution_count": 37,
      "outputs": [
        {
          "output_type": "stream",
          "name": "stdout",
          "text": [
            "Total price for 3 Laptop(s): $3000\n"
          ]
        }
      ]
    },
    {
      "cell_type": "code",
      "source": [
        "#Que.16 Create a class Animal with an abstract method sound(). Create two derived classes Cow and Sheep that\n",
        "        #implement the sound() method.\n",
        "\n",
        "class Animal:\n",
        "  def sound(self):\n",
        "    print(\"This animal makes a sound\")\n",
        "\n",
        "class Cow(Animal):\n",
        "  def sound(self):\n",
        "    print(\"MOO\")\n",
        "\n",
        "class Sheep(Animal):\n",
        "  def sound(self):\n",
        "    print(\"Baa\")\n",
        "\n",
        "class Goat(Animal):\n",
        "  def sound(self):\n",
        "    print(\"Moooo\")\n",
        "\n",
        "animal = Animal()\n",
        "animal.sound()\n",
        "\n",
        "cow = Cow()\n",
        "cow.sound()\n",
        "\n",
        "sheep = Sheep()\n",
        "sheep.sound()\n",
        "\n",
        "goat = Goat()\n",
        "goat.sound()"
      ],
      "metadata": {
        "colab": {
          "base_uri": "https://localhost:8080/"
        },
        "id": "naLrLM6y4--l",
        "outputId": "2d202ffd-5233-4e3c-9209-2aecd02c1f6c"
      },
      "execution_count": 35,
      "outputs": [
        {
          "output_type": "stream",
          "name": "stdout",
          "text": [
            "This animal makes a sound\n",
            "MOO\n",
            "Baa\n",
            "Moooo\n"
          ]
        }
      ]
    },
    {
      "cell_type": "code",
      "source": [
        "#Que.17 Create a class Book with attributes title, author, and year_published. Add a method get_book_info() that\n",
        "        #returns a formatted string with the book's details.\n",
        "\n",
        "class Book:\n",
        "  def __init__(self, title, author, year_published):\n",
        "    self.title = title\n",
        "    self.author = author\n",
        "    self.year_published = year_published\n",
        "\n",
        "  def get_book_info(self):\n",
        "    return f\"{self.title} by {self.author}, published in {self.year_published}.\"\n",
        "\n",
        "book = Book(\"Atomic Habits\",\"James Clear\",2015)\n",
        "print(book.get_book_info())\n",
        ""
      ],
      "metadata": {
        "colab": {
          "base_uri": "https://localhost:8080/"
        },
        "id": "d5s_o3o-4_CV",
        "outputId": "6f2e1011-2fc3-4606-fd31-31f5d6366bc8"
      },
      "execution_count": 32,
      "outputs": [
        {
          "output_type": "stream",
          "name": "stdout",
          "text": [
            "Atomic Habits by James Clear, published in 2015.\n"
          ]
        }
      ]
    },
    {
      "cell_type": "code",
      "source": [
        "#Que.18 Create a class House with attributes address and price. Create a derived class Mansion that adds an\n",
        "       #attribute number_of_rooms.\n",
        "\n",
        "class House:\n",
        "  def __init__(self,address,price):\n",
        "    self.address = address\n",
        "    self.price = price\n",
        "\n",
        "  def display_info(self):\n",
        "        return f\"Address: {self.address}, Price: ${self.price}\"\n",
        "\n",
        "class Mansion(House):\n",
        "  def __init__(self,address,price,number_of_rooms):\n",
        "    super().__init__(address,price)\n",
        "    self.number_of_rooms = number_of_rooms\n",
        "\n",
        "  def display_info(self):\n",
        "    return f\"Address: {self.address}, Price: ${self.price}, Number of rooms: {self.number_of_rooms}\"\n",
        "\n",
        "class Apartment(House):\n",
        "\n",
        "  def __init__(self,address,price,number_of_rooms):\n",
        "    super().__init__(address,price)\n",
        "    self.number_of_rooms = number_of_rooms\n",
        "\n",
        "  def display_info(self):\n",
        "    return f\"Address: {self.address}, Price: ${self.price}, Number of rooms: {self.number_of_rooms}\"\n",
        "\n",
        "\n",
        "class Villa(House):\n",
        "  def __init__(self,address,price,number_oF_rooms):\n",
        "    super().__init__(address,price)\n",
        "    self.number_of_rooms = number_oF_rooms\n",
        "\n",
        "  def display_info(self):\n",
        "    return f\"Address: {self.address}, Price: ${self.price}, Number of rooms: {self.number_of_rooms}\"\n",
        "\n",
        "\n",
        "house = House(\"Trimurti Nagar\",700000)\n",
        "print(house.display_info())\n",
        "\n",
        "mansion = Mansion(\"Rathi Colony\",120000,30)\n",
        "print(mansion.display_info())\n",
        "\n",
        "apartment = Apartment(\"Mahuri\",5000000,20)\n",
        "print(apartment.display_info())\n",
        "\n",
        "villa = Villa(\"Gangotri\",2000000,40)\n",
        "print(villa.display_info())"
      ],
      "metadata": {
        "colab": {
          "base_uri": "https://localhost:8080/"
        },
        "id": "3sVUcJcd4_EL",
        "outputId": "bb394b54-7bdd-41b9-c895-e47008f77f32"
      },
      "execution_count": 28,
      "outputs": [
        {
          "output_type": "stream",
          "name": "stdout",
          "text": [
            "Address: Trimurti Nagar, Price: $700000\n",
            "Address: Rathi Colony, Price: $120000, Number of rooms: 30\n",
            "Address: Mahuri, Price: $5000000, Number of rooms: 20\n",
            "Address: Gangotri, Price: $2000000, Number of rooms: 40\n"
          ]
        }
      ]
    }
  ]
}